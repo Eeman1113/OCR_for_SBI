{
  "nbformat": 4,
  "nbformat_minor": 0,
  "metadata": {
    "colab": {
      "name": "Sbi_submisson.ipynb",
      "provenance": [],
      "collapsed_sections": [],
      "authorship_tag": "ABX9TyPDiobZLx+3NhsKt7E1lTh4",
      "include_colab_link": true
    },
    "kernelspec": {
      "name": "python3",
      "display_name": "Python 3"
    },
    "language_info": {
      "name": "python"
    }
  },
  "cells": [
    {
      "cell_type": "markdown",
      "metadata": {
        "id": "view-in-github",
        "colab_type": "text"
      },
      "source": [
        "<a href=\"https://colab.research.google.com/github/Eeman1113/OCR_for_SBI/blob/main/Sbi_submisson.ipynb\" target=\"_parent\"><img src=\"https://colab.research.google.com/assets/colab-badge.svg\" alt=\"Open In Colab\"/></a>"
      ]
    },
    {
      "cell_type": "code",
      "source": [
        "!pip install opencv-python\n",
        "!pip install pytesseract\n",
        "!pip install numpy\n",
        "!pip install pyscreenshot"
      ],
      "metadata": {
        "id": "9tBEF-60gQPt"
      },
      "execution_count": null,
      "outputs": []
    },
    {
      "cell_type": "code",
      "execution_count": null,
      "metadata": {
        "id": "HuAYyo6CfjNR"
      },
      "outputs": [],
      "source": [
        "from google.colab import files\n",
        "\n",
        "uploaded = files.upload()\n",
        "\n",
        "for fn in uploaded.keys():\n",
        "  print('User uploaded file \"{name}\" with length {length} bytes'.format(\n",
        "      name=fn, length=len(uploaded[fn])))"
      ]
    },
    {
      "cell_type": "code",
      "source": [
        "#OCR Part\n",
        "\n",
        "# Import required packages\n",
        "import cv2\n",
        "import pytesseract\n",
        "\n",
        "# Mention the installed location of Tesseract-OCR in your system\n",
        "pytesseract.pytesseract.tesseract_cmd = (r'/opt/homebrew/Cellar/tesseract/5.1.0/bin/tesseract')\n",
        "\n",
        "# Read image from which text needs to be extracted\n",
        "img = cv2.imread(fn)\n",
        "\n",
        "# Preprocessing the image starts\n",
        "\n",
        "#negative of image \n",
        "img_not = cv2.bitwise_not(img)\n",
        "img_not = cv2.bitwise_not(img_not)\n",
        "cv2.imwrite(\"/content/img_not.png\", img_not)\n",
        "# Convert the image to gray scale\n",
        "gray = cv2.cvtColor(img_not, cv2.COLOR_BGR2GRAY)\n",
        "# Performing OTSU threshold\n",
        "ret, thresh1 = cv2.threshold(gray, 0, 255, cv2.THRESH_OTSU | cv2.THRESH_BINARY_INV)\n",
        "\n",
        "# Specify structure shape and kernel size.\n",
        "# Kernel size increases or decreases the area\n",
        "# of the rectangle to be detected.\n",
        "# A smaller value like (10, 10) will detect\n",
        "# each word instead of a sentence.\n",
        "rect_kernel = cv2.getStructuringElement(cv2.MORPH_RECT, (18, 18))\n",
        "\n",
        "# Applying dilation on the threshold image\n",
        "dilation = cv2.dilate(thresh1, rect_kernel, iterations = 1)\n",
        "\n",
        "# Finding contours\n",
        "contours, hierarchy = cv2.findContours(dilation, cv2.RETR_EXTERNAL,\n",
        "\t\t\t\t\t\t\t\t\t\t\t\tcv2.CHAIN_APPROX_NONE)\n",
        "\n",
        "# Creating a copy of image\n",
        "im2 = img.copy()\n",
        "\n",
        "\n",
        "\n",
        "# Looping through the identified contours\n",
        "# Then rectangular part is cropped and passed on\n",
        "# to pytesseract for extracting text from it\n",
        "# Extracted text is then written into the text file\n",
        "for cnt in contours:\n",
        "  x, y, w, h = cv2.boundingRect(cnt)\n",
        "\t# Drawing a rectangle on copied image\n",
        "  rect = cv2.rectangle(im2, (x, y), (x + w, y + h), (0, 255, 0), 2)\n",
        "\t\n",
        "\t# Cropping the text block for giving input to OCR\n",
        "  cropped = im2[y:y + h, x:x + w]\n",
        "    \n",
        "# Open the file in append mode\n",
        "file = open(\"/content/recognized.txt\", \"a\")\n",
        "cv2.imwrite(\"/content/cropped.png\", im2)\n",
        "# Apply OCR on the cropped image\n",
        "text = pytesseract.image_to_string(img_not, lang='eng')\n",
        "l=[]\n",
        "l.append(text)\n",
        "time.sleep(0.6)\n",
        "\n",
        "# Appending the text into file\n",
        "file.write(text)\n",
        "file.write(\"\\n\")\n",
        "\n",
        "# Close the file\n",
        "file.close\n"
      ],
      "metadata": {
        "id": "ScftDxytfmYp"
      },
      "execution_count": null,
      "outputs": []
    }
  ]
}